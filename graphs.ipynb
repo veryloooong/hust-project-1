{
 "cells": [
  {
   "cell_type": "markdown",
   "metadata": {},
   "source": [
    "# Graph Coloring Problem"
   ]
  },
  {
   "cell_type": "code",
   "execution_count": 1064,
   "metadata": {},
   "outputs": [],
   "source": [
    "# imports\n",
    "import networkx as nx\n",
    "import matplotlib.pyplot as plt\n",
    "import numpy as np\n",
    "import time"
   ]
  },
  {
   "cell_type": "code",
   "execution_count": 1065,
   "metadata": {},
   "outputs": [],
   "source": [
    "# function to read a graph from a file\n",
    "def read_file(filename: str):\n",
    "  with open(filename, 'r') as f:\n",
    "    # for each line\n",
    "    for line in f:\n",
    "      tokens = line.split()\n",
    "      if (tokens[0] == 'c'):\n",
    "        continue\n",
    "      elif (tokens[0] == 'p'):\n",
    "        # n = int(tokens[2])\n",
    "        # m = int(tokens[3])\n",
    "        G = nx.Graph()\n",
    "      elif (tokens[0] == 'e'):\n",
    "        G.add_edge(int(tokens[1]), int(tokens[2]))\n",
    "\n",
    "  return G"
   ]
  },
  {
   "cell_type": "markdown",
   "metadata": {},
   "source": [
    "## Heuristics"
   ]
  },
  {
   "cell_type": "code",
   "execution_count": 1066,
   "metadata": {},
   "outputs": [],
   "source": [
    "# graph coloring functions\n",
    "def LF(G: nx.Graph):\n",
    "  ans: dict = nx.greedy_color(G, strategy='largest_first')\n",
    "  return max(ans.values()) + 1\n",
    "\n",
    "def SL(G: nx.Graph):\n",
    "  ans: dict = nx.greedy_color(G, strategy='smallest_last')\n",
    "  return max(ans.values()) + 1\n",
    "\n",
    "def LFI(G: nx.Graph):\n",
    "  ans: dict = nx.greedy_color(G, strategy='largest_first', interchange=True)\n",
    "  return max(ans.values()) + 1\n",
    "\n",
    "def SLI(G: nx.Graph):\n",
    "  ans: dict = nx.greedy_color(G, strategy='smallest_last', interchange=True)\n",
    "  return max(ans.values()) + 1\n",
    "\n",
    "def DSatur(G: nx.Graph):\n",
    "  ans: dict = nx.coloring.greedy_color(G, strategy='DSATUR')\n",
    "  return max(ans.values()) + 1\n",
    "\n",
    "def RLF(G: nx.Graph):\n",
    "  ans: dict = nx.coloring.greedy_color(G, strategy='independent_set')\n",
    "  return max(ans.values()) + 1"
   ]
  },
  {
   "cell_type": "code",
   "execution_count": 1067,
   "metadata": {},
   "outputs": [],
   "source": [
    "GA_CROSSOVER_PROB = 0.9\n",
    "GA_MUTATION_PROB = 0.3\n",
    "GA_GENERATION_COUNT = 500\n",
    "GA_POPULATION_SIZE = 100"
   ]
  },
  {
   "cell_type": "markdown",
   "metadata": {},
   "source": [
    "## GA"
   ]
  },
  {
   "cell_type": "code",
   "execution_count": 1068,
   "metadata": {},
   "outputs": [],
   "source": [
    "# genetic algorithm\n",
    "class GAIndividual:\n",
    "  def __init__(self, number_of_colors: int):\n",
    "    self.chromosome = dict()\n",
    "    self.fitness: int = 1e9\n",
    "    self.number_of_colors = number_of_colors\n",
    "\n",
    "  def randomize(self, G: nx.Graph):\n",
    "    for node in G.nodes:\n",
    "      self.chromosome[node] = np.random.randint(0, self.number_of_colors)\n",
    "    self.calculate_fitness(G)\n",
    "\n",
    "  def calculate_fitness(self, G: nx.Graph):\n",
    "    self.fitness = 0\n",
    "    for u, v in G.edges:\n",
    "      if self.chromosome[u] == self.chromosome[v]:\n",
    "        self.fitness += 1\n",
    "\n",
    "  def mutate(self):\n",
    "    node = np.random.choice(list(self.chromosome.keys()))\n",
    "    self.chromosome[node] = np.random.randint(0, self.number_of_colors)\n",
    "\n",
    "class GAPopulation:\n",
    "  def __init__(self, number_of_colors: int, population_size: int):\n",
    "    self.individuals = [GAIndividual(number_of_colors) for _ in range(population_size)]\n",
    "    self.number_of_colors = number_of_colors\n",
    "    self.population_size = population_size\n",
    "\n",
    "  def randomize(self, G: nx.Graph):\n",
    "    for individual in self.individuals:\n",
    "      individual.randomize(G)\n",
    "      individual.calculate_fitness(G)\n",
    "\n",
    "  def crossover(self, G: nx.Graph):\n",
    "    for _ in range(0, self.population_size, 2):\n",
    "      if np.random.rand() < GA_CROSSOVER_PROB:\n",
    "        self._crossover(G)\n",
    "\n",
    "  def _crossover(self, G: nx.Graph):\n",
    "    parents = np.random.choice(self.individuals, 2, replace=False)\n",
    "    child = GAIndividual(self.number_of_colors)\n",
    "    for node in G.nodes:\n",
    "      if np.random.rand() < 0.5:\n",
    "        child.chromosome[node] = parents[0].chromosome[node]\n",
    "      else:\n",
    "        child.chromosome[node] = parents[1].chromosome[node]\n",
    "\n",
    "  def mutate(self, G: nx.Graph):\n",
    "    for individual in self.individuals:\n",
    "      if np.random.rand() < GA_MUTATION_PROB:\n",
    "        individual.mutate()\n",
    "        individual.calculate_fitness(G)\n",
    "\n",
    "  def select(self):\n",
    "    # 3 way tournament selection\n",
    "    selected = []\n",
    "    while len(selected) < self.population_size:\n",
    "      candidates = np.random.choice(self.individuals, 3, replace=False)\n",
    "      selected.append(min(candidates, key=lambda x: x.fitness))\n",
    "\n",
    "    self.individuals = selected\n",
    "\n",
    "  def get_best(self):\n",
    "    return min(self.individuals, key=lambda x: x.fitness)"
   ]
  },
  {
   "cell_type": "code",
   "execution_count": 1069,
   "metadata": {},
   "outputs": [],
   "source": [
    "# Genetic Algorithm\n",
    "def genetic_algorithm(G: nx.Graph, number_of_colors: int):\n",
    "  population = GAPopulation(number_of_colors, GA_POPULATION_SIZE)\n",
    "  population.randomize(G)\n",
    "  iteration_count = 0\n",
    "\n",
    "  while iteration_count < GA_GENERATION_COUNT and population.get_best().fitness > 0:\n",
    "    population.crossover(G)\n",
    "    population.mutate(G)\n",
    "    population.select()\n",
    "    if population.get_best().fitness == 0:\n",
    "      population = GAPopulation(number_of_colors, GA_POPULATION_SIZE)\n",
    "      population.randomize(G)\n",
    "    iteration_count += 1\n",
    "\n",
    "  return population.get_best().fitness\n",
    "\n",
    "# main function\n",
    "def GA(G: nx.Graph):\n",
    "  number_of_colors = LF(G)\n",
    "  while True:\n",
    "    if genetic_algorithm(G, number_of_colors) == 0:\n",
    "      number_of_colors -= 1\n",
    "    else:\n",
    "      return number_of_colors + 1"
   ]
  },
  {
   "cell_type": "markdown",
   "metadata": {},
   "source": [
    "## Tabu"
   ]
  },
  {
   "cell_type": "code",
   "execution_count": 1070,
   "metadata": {},
   "outputs": [],
   "source": [
    "TABU_LIST_SIZE = 40\n",
    "TABU_ITERATIONS = 500\n",
    "\n",
    "from collections import deque\n",
    "from copy import deepcopy"
   ]
  },
  {
   "cell_type": "code",
   "execution_count": 1071,
   "metadata": {},
   "outputs": [],
   "source": [
    "# Tabu search\n",
    "def tabu_search(G: nx.Graph, number_of_colors: int):\n",
    "  tabu_list: deque[tuple] = deque(maxlen=TABU_LIST_SIZE)\n",
    "  best_solution = GAIndividual(number_of_colors)\n",
    "  best_solution.randomize(G)\n",
    "  best_solution.calculate_fitness(G)\n",
    "  current_solution = best_solution\n",
    "  iteration_count = 0\n",
    "\n",
    "  while iteration_count < TABU_ITERATIONS and best_solution.fitness > 0:\n",
    "    best_neighbor = None\n",
    "    for _ in range(20):\n",
    "      neighbor = deepcopy(current_solution)\n",
    "      vertex = np.random.choice(list(G.nodes))\n",
    "      coloring = np.random.randint(0, number_of_colors)\n",
    "      neighbor.chromosome[vertex] = coloring\n",
    "      neighbor.calculate_fitness(G)\n",
    "      if neighbor.fitness < best_solution.fitness:\n",
    "        best_neighbor = neighbor\n",
    "\n",
    "    if best_neighbor is not None:\n",
    "      current_solution = best_neighbor\n",
    "      if current_solution.fitness < best_solution.fitness:\n",
    "        best_solution = current_solution\n",
    "\n",
    "    tabu_list.append(tuple([vertex, coloring]))\n",
    "    iteration_count += 1\n",
    "\n",
    "  return best_solution.fitness"
   ]
  },
  {
   "cell_type": "code",
   "execution_count": 1072,
   "metadata": {},
   "outputs": [],
   "source": [
    "def Tabu(G: nx.Graph):\n",
    "  number_of_colors = max(G.degree, key=lambda x: x[1])[1] + 1\n",
    "  while True:\n",
    "    fitness = tabu_search(G, number_of_colors)\n",
    "    if fitness == 0:\n",
    "      number_of_colors -= 1\n",
    "    else:\n",
    "      return number_of_colors + 1"
   ]
  },
  {
   "cell_type": "markdown",
   "metadata": {},
   "source": [
    "## Benchmark"
   ]
  },
  {
   "cell_type": "code",
   "execution_count": 1073,
   "metadata": {},
   "outputs": [],
   "source": [
    "graph = read_file('datasets/le450_25b.col')"
   ]
  },
  {
   "cell_type": "code",
   "execution_count": 1074,
   "metadata": {},
   "outputs": [],
   "source": [
    "def benchmark_algorithm(algorithm, G):\n",
    "  start = time.perf_counter_ns()\n",
    "  result = algorithm(G)\n",
    "  end = time.perf_counter_ns()\n",
    "  time_taken_in_seconds = (end - start) / 1e9\n",
    "  print(f'{algorithm.__name__}\\t\\t{result}\\t\\t{time_taken_in_seconds:.4f}s')"
   ]
  },
  {
   "cell_type": "code",
   "execution_count": null,
   "metadata": {},
   "outputs": [],
   "source": [
    "# run the algorithms\n",
    "print('Algorithm\\tColors\\t\\tTime')\n",
    "benchmark_algorithm(LF, graph)\n",
    "benchmark_algorithm(SL, graph)\n",
    "benchmark_algorithm(LFI, graph)\n",
    "benchmark_algorithm(SLI, graph)\n",
    "benchmark_algorithm(DSatur, graph)\n",
    "benchmark_algorithm(RLF, graph)\n",
    "benchmark_algorithm(GA, graph)\n",
    "benchmark_algorithm(Tabu, graph)"
   ]
  }
 ],
 "metadata": {
  "kernelspec": {
   "display_name": "venv",
   "language": "python",
   "name": "python3"
  },
  "language_info": {
   "codemirror_mode": {
    "name": "ipython",
    "version": 3
   },
   "file_extension": ".py",
   "mimetype": "text/x-python",
   "name": "python",
   "nbconvert_exporter": "python",
   "pygments_lexer": "ipython3",
   "version": "3.12.3"
  }
 },
 "nbformat": 4,
 "nbformat_minor": 2
}
